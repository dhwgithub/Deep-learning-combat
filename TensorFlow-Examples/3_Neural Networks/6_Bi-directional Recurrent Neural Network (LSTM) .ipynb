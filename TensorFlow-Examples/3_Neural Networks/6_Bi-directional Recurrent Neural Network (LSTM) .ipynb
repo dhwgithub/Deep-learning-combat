{
 "cells": [
  {
   "cell_type": "code",
   "execution_count": 2,
   "metadata": {},
   "outputs": [],
   "source": [
    "from __future__ import print_function\n",
    "\n",
    "import tensorflow as tf\n",
    "from tensorflow.contrib import rnn\n",
    "import numpy as np"
   ]
  },
  {
   "cell_type": "code",
   "execution_count": 3,
   "metadata": {},
   "outputs": [
    {
     "name": "stdout",
     "output_type": "stream",
     "text": [
      "Extracting ../MNIST-data/train-images-idx3-ubyte.gz\n",
      "Extracting ../MNIST-data/train-labels-idx1-ubyte.gz\n",
      "Extracting ../MNIST-data/t10k-images-idx3-ubyte.gz\n",
      "Extracting ../MNIST-data/t10k-labels-idx1-ubyte.gz\n"
     ]
    }
   ],
   "source": [
    "# Import MNIST data\n",
    "from tensorflow.examples.tutorials.mnist import input_data\n",
    "mnist = input_data.read_data_sets(\"../MNIST-data\", False, one_hot=True)"
   ]
  },
  {
   "cell_type": "code",
   "execution_count": 4,
   "metadata": {},
   "outputs": [],
   "source": [
    "# Training Parameters\n",
    "learning_rate = 0.001\n",
    "training_steps = 10000\n",
    "batch_size = 128\n",
    "display_step = 200\n",
    "\n",
    "# Network Parameters\n",
    "num_input = 28 # MNIST data input (img shape: 28*28)\n",
    "timesteps = 28 # timesteps\n",
    "num_hidden = 128 # hidden layer num of features\n",
    "num_classes = 10 # MNIST total classes (0-9 digits)\n",
    "\n",
    "# tf Graph input\n",
    "X = tf.placeholder(\"float\", [None, timesteps, num_input])\n",
    "Y = tf.placeholder(\"float\", [None, num_classes])"
   ]
  },
  {
   "cell_type": "code",
   "execution_count": 5,
   "metadata": {},
   "outputs": [],
   "source": [
    "# Define weights\n",
    "weights = {\n",
    "    # Hidden layer weights => 2*n_hidden because of forward + backward cells\n",
    "    'out': tf.Variable(tf.random_normal([2*num_hidden, num_classes]))\n",
    "}\n",
    "biases = {\n",
    "    'out': tf.Variable(tf.random_normal([num_classes]))\n",
    "}"
   ]
  },
  {
   "cell_type": "code",
   "execution_count": 6,
   "metadata": {},
   "outputs": [],
   "source": [
    "def BiRNN(x, weights, biases):\n",
    "\n",
    "    # Prepare data shape to match `rnn` function requirements\n",
    "    # Current data input shape: (batch_size, timesteps, n_input)\n",
    "    # Required shape: 'timesteps' tensors list of shape (batch_size, num_input)\n",
    "\n",
    "    # Unstack to get a list of 'timesteps' tensors of shape (batch_size, num_input)\n",
    "    x = tf.unstack(x, timesteps, 1)\n",
    "\n",
    "    # Define lstm cells with tensorflow\n",
    "    # Forward direction cell\n",
    "    lstm_fw_cell = rnn.BasicLSTMCell(num_hidden, forget_bias=1.0)\n",
    "    # Backward direction cell\n",
    "    lstm_bw_cell = rnn.BasicLSTMCell(num_hidden, forget_bias=1.0)\n",
    "\n",
    "    # Get lstm cell output\n",
    "    try:\n",
    "        outputs, _, _ = rnn.static_bidirectional_rnn(lstm_fw_cell,\n",
    "                                                     lstm_bw_cell,\n",
    "                                                     x,\n",
    "                                                     dtype=tf.float32)\n",
    "    except Exception: # Old TensorFlow version only returns outputs not states\n",
    "        outputs = rnn.static_bidirectional_rnn(lstm_fw_cell,\n",
    "                                               lstm_bw_cell,\n",
    "                                               x,\n",
    "                                               dtype=tf.float32)\n",
    "\n",
    "    # Linear activation, using rnn inner loop last output\n",
    "    return tf.matmul(outputs[-1], weights['out']) + biases['out']"
   ]
  },
  {
   "cell_type": "code",
   "execution_count": 7,
   "metadata": {},
   "outputs": [
    {
     "name": "stdout",
     "output_type": "stream",
     "text": [
      "WARNING:tensorflow:From <ipython-input-7-d3f47ebfdd10>:6: softmax_cross_entropy_with_logits (from tensorflow.python.ops.nn_ops) is deprecated and will be removed in a future version.\n",
      "Instructions for updating:\n",
      "\n",
      "Future major versions of TensorFlow will allow gradients to flow\n",
      "into the labels input on backprop by default.\n",
      "\n",
      "See tf.nn.softmax_cross_entropy_with_logits_v2.\n",
      "\n"
     ]
    }
   ],
   "source": [
    "logits = BiRNN(X, weights, biases)\n",
    "prediction = tf.nn.softmax(logits)\n",
    "\n",
    "# Define loss and optimizer\n",
    "loss_op = tf.reduce_mean(tf.nn.softmax_cross_entropy_with_logits(logits=logits,\n",
    "                                                                 labels=Y))\n",
    "optimizer = tf.train.GradientDescentOptimizer(learning_rate=learning_rate)\n",
    "train_op = optimizer.minimize(loss_op)\n",
    "\n",
    "# Evaluate model (with test logits, for dropout to be disabled)\n",
    "correct_pred = tf.equal(tf.argmax(prediction, 1), tf.argmax(Y, 1))\n",
    "accuracy = tf.reduce_mean(tf.cast(correct_pred, tf.float32))\n",
    "\n",
    "# Initialize the variables (i.e. assign their default value)\n",
    "init = tf.global_variables_initializer()"
   ]
  },
  {
   "cell_type": "code",
   "execution_count": 8,
   "metadata": {},
   "outputs": [
    {
     "name": "stdout",
     "output_type": "stream",
     "text": [
      "Step 1, Minibatch Loss= 3.1074, Training Accuracy= 0.086\n",
      "Step 200, Minibatch Loss= 2.1278, Training Accuracy= 0.312\n",
      "Step 400, Minibatch Loss= 2.0210, Training Accuracy= 0.359\n",
      "Step 600, Minibatch Loss= 1.8205, Training Accuracy= 0.430\n",
      "Step 800, Minibatch Loss= 1.7258, Training Accuracy= 0.469\n",
      "Step 1000, Minibatch Loss= 1.5612, Training Accuracy= 0.500\n",
      "Step 1200, Minibatch Loss= 1.4805, Training Accuracy= 0.523\n",
      "Step 1400, Minibatch Loss= 1.3215, Training Accuracy= 0.586\n",
      "Step 1600, Minibatch Loss= 1.4623, Training Accuracy= 0.500\n",
      "Step 1800, Minibatch Loss= 1.2473, Training Accuracy= 0.594\n",
      "Step 2000, Minibatch Loss= 1.1788, Training Accuracy= 0.672\n",
      "Step 2200, Minibatch Loss= 1.3808, Training Accuracy= 0.555\n",
      "Step 2400, Minibatch Loss= 1.0233, Training Accuracy= 0.641\n",
      "Step 2600, Minibatch Loss= 1.1012, Training Accuracy= 0.664\n",
      "Step 2800, Minibatch Loss= 0.9186, Training Accuracy= 0.727\n",
      "Step 3000, Minibatch Loss= 1.0598, Training Accuracy= 0.680\n",
      "Step 3200, Minibatch Loss= 0.9729, Training Accuracy= 0.695\n",
      "Step 3400, Minibatch Loss= 1.0318, Training Accuracy= 0.695\n",
      "Step 3600, Minibatch Loss= 0.8350, Training Accuracy= 0.766\n",
      "Step 3800, Minibatch Loss= 0.7646, Training Accuracy= 0.805\n",
      "Step 4000, Minibatch Loss= 0.9638, Training Accuracy= 0.648\n",
      "Step 4200, Minibatch Loss= 0.8607, Training Accuracy= 0.695\n",
      "Step 4400, Minibatch Loss= 0.7804, Training Accuracy= 0.734\n",
      "Step 4600, Minibatch Loss= 0.7559, Training Accuracy= 0.750\n",
      "Step 4800, Minibatch Loss= 0.8841, Training Accuracy= 0.734\n",
      "Step 5000, Minibatch Loss= 0.8616, Training Accuracy= 0.719\n",
      "Step 5200, Minibatch Loss= 0.7420, Training Accuracy= 0.742\n",
      "Step 5400, Minibatch Loss= 0.7442, Training Accuracy= 0.758\n",
      "Step 5600, Minibatch Loss= 0.7103, Training Accuracy= 0.789\n",
      "Step 5800, Minibatch Loss= 0.6041, Training Accuracy= 0.828\n",
      "Step 6000, Minibatch Loss= 0.5544, Training Accuracy= 0.812\n",
      "Step 6200, Minibatch Loss= 0.6622, Training Accuracy= 0.789\n",
      "Step 6400, Minibatch Loss= 0.7874, Training Accuracy= 0.758\n",
      "Step 6600, Minibatch Loss= 0.6332, Training Accuracy= 0.789\n",
      "Step 6800, Minibatch Loss= 0.5097, Training Accuracy= 0.859\n",
      "Step 7000, Minibatch Loss= 0.6129, Training Accuracy= 0.797\n",
      "Step 7200, Minibatch Loss= 0.5464, Training Accuracy= 0.820\n",
      "Step 7400, Minibatch Loss= 0.6098, Training Accuracy= 0.812\n",
      "Step 7600, Minibatch Loss= 0.4843, Training Accuracy= 0.820\n",
      "Step 7800, Minibatch Loss= 0.5978, Training Accuracy= 0.789\n",
      "Step 8000, Minibatch Loss= 0.5045, Training Accuracy= 0.852\n",
      "Step 8200, Minibatch Loss= 0.4424, Training Accuracy= 0.859\n",
      "Step 8400, Minibatch Loss= 0.4632, Training Accuracy= 0.883\n",
      "Step 8600, Minibatch Loss= 0.4950, Training Accuracy= 0.844\n",
      "Step 8800, Minibatch Loss= 0.4505, Training Accuracy= 0.867\n",
      "Step 9000, Minibatch Loss= 0.4356, Training Accuracy= 0.844\n",
      "Step 9200, Minibatch Loss= 0.3355, Training Accuracy= 0.875\n",
      "Step 9400, Minibatch Loss= 0.4295, Training Accuracy= 0.859\n",
      "Step 9600, Minibatch Loss= 0.4591, Training Accuracy= 0.859\n",
      "Step 9800, Minibatch Loss= 0.3175, Training Accuracy= 0.891\n",
      "Step 10000, Minibatch Loss= 0.3877, Training Accuracy= 0.867\n",
      "Optimization Finished!\n",
      "Testing Accuracy: 0.90625\n"
     ]
    }
   ],
   "source": [
    "# Start training\n",
    "with tf.Session() as sess:\n",
    "    # Run the initializer\n",
    "    sess.run(init)\n",
    "\n",
    "    for step in range(1, training_steps + 1):\n",
    "        batch_x, batch_y = mnist.train.next_batch(batch_size)\n",
    "        \n",
    "        # Reshape data to get 28 seq of 28 elements\n",
    "        batch_x = batch_x.reshape((batch_size, timesteps, num_input))\n",
    "        \n",
    "        # Run optimization op (backprop)\n",
    "        sess.run(train_op, feed_dict={X: batch_x, Y: batch_y})\n",
    "        \n",
    "        if step % display_step == 0 or step == 1:\n",
    "            # Calculate batch loss and accuracy\n",
    "            loss, acc = sess.run([loss_op, accuracy],\n",
    "                                 feed_dict={X: batch_x, Y: batch_y})\n",
    "            print(\"Step \" + str(step) + \", Minibatch Loss= \" + \\\n",
    "                  \"{:.4f}\".format(loss) + \", Training Accuracy= \" + \\\n",
    "                  \"{:.3f}\".format(acc))\n",
    "\n",
    "    print(\"Optimization Finished!\")\n",
    "\n",
    "    # Calculate accuracy for 128 mnist test images\n",
    "    test_len = 128\n",
    "    test_data = mnist.test.images[:test_len].reshape((-1, timesteps, num_input))\n",
    "    test_label = mnist.test.labels[:test_len]\n",
    "    print(\"Testing Accuracy:\", sess.run(accuracy,\n",
    "                                        feed_dict={X: test_data, Y: test_label}))"
   ]
  },
  {
   "cell_type": "code",
   "execution_count": null,
   "metadata": {},
   "outputs": [],
   "source": []
  }
 ],
 "metadata": {
  "kernelspec": {
   "display_name": "Python 3",
   "language": "python",
   "name": "python3"
  },
  "language_info": {
   "codemirror_mode": {
    "name": "ipython",
    "version": 3
   },
   "file_extension": ".py",
   "mimetype": "text/x-python",
   "name": "python",
   "nbconvert_exporter": "python",
   "pygments_lexer": "ipython3",
   "version": "3.5.4"
  }
 },
 "nbformat": 4,
 "nbformat_minor": 4
}
