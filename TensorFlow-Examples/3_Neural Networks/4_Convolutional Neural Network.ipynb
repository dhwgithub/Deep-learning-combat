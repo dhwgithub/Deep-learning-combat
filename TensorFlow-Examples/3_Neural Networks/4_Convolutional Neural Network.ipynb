{
 "cells": [
  {
   "cell_type": "code",
   "execution_count": 10,
   "metadata": {},
   "outputs": [],
   "source": [
    "from __future__ import division, print_function, absolute_import\n",
    "import tensorflow as tf\n",
    "import matplotlib.pyplot as plt\n",
    "import numpy as np"
   ]
  },
  {
   "cell_type": "code",
   "execution_count": 2,
   "metadata": {},
   "outputs": [
    {
     "name": "stdout",
     "output_type": "stream",
     "text": [
      "Extracting ../MNIST-data/train-images-idx3-ubyte.gz\n",
      "Extracting ../MNIST-data/train-labels-idx1-ubyte.gz\n",
      "Extracting ../MNIST-data/t10k-images-idx3-ubyte.gz\n",
      "Extracting ../MNIST-data/t10k-labels-idx1-ubyte.gz\n"
     ]
    }
   ],
   "source": [
    "# Import MNIST data\n",
    "from tensorflow.examples.tutorials.mnist import input_data\n",
    "mnist = input_data.read_data_sets(\"../MNIST-data\", False, one_hot=False)"
   ]
  },
  {
   "cell_type": "code",
   "execution_count": 3,
   "metadata": {},
   "outputs": [],
   "source": [
    "# Training Parameters\n",
    "learning_rate = 0.001\n",
    "num_steps = 2000\n",
    "batch_size = 128\n",
    "\n",
    "# Network Parameters\n",
    "num_input = 784 # MNIST data input (img shape: 28*28)\n",
    "num_classes = 10 # MNIST total classes (0-9 digits)\n",
    "dropout = 0.25 # Dropout, probability to drop a unit"
   ]
  },
  {
   "cell_type": "code",
   "execution_count": 4,
   "metadata": {},
   "outputs": [],
   "source": [
    "# Create the neural network\n",
    "def conv_net(x_dict, n_classes, dropout, reuse, is_training):\n",
    "    # Define a scope for reusing the variables\n",
    "    with tf.variable_scope('ConvNet', reuse=reuse):\n",
    "        # TF Estimator input is a dict, in case of multiple inputs\n",
    "        x = x_dict['images']\n",
    "\n",
    "        # MNIST data input is a 1-D vector of 784 features (28*28 pixels)\n",
    "        # Reshape to match picture format [Height x Width x Channel]\n",
    "        # Tensor input become 4-D: [Batch Size, Height, Width, Channel]\n",
    "        x = tf.reshape(x, shape=[-1, 28, 28, 1])\n",
    "\n",
    "        # Convolution Layer with 32 filters and a kernel size of 5\n",
    "        # 填充默认是'SAME'，24 = 28 - 5 + 1，深度为 32\n",
    "        # 卷积操作使得图片变小，深度固定为指定大小\n",
    "        conv1 = tf.layers.conv2d(x, 32, 5, activation=tf.nn.relu)  # (128, 24, 24, 32)\n",
    "        # Max Pooling (down-sampling) with strides of 2 and kernel size of 2\n",
    "        # 池化操作使得图片变小，深度不变\n",
    "        conv1 = tf.layers.max_pooling2d(conv1, 2, 2)  # (128, 12, 12, 32)\n",
    "\n",
    "        # Convolution Layer with 64 filters and a kernel size of 3\n",
    "        conv2 = tf.layers.conv2d(conv1, 64, 3, activation=tf.nn.relu)  # (128, 10, 10, 64)\n",
    "        # Max Pooling (down-sampling) with strides of 2 and kernel size of 2\n",
    "        conv2 = tf.layers.max_pooling2d(conv2, 2, 2)  # (128, 5, 5, 64)\n",
    "\n",
    "        # Flatten the data to a 1-D vector for the fully connected layer\n",
    "        fc1 = tf.contrib.layers.flatten(conv2)  # (128, 1600)\n",
    "\n",
    "        # Fully connected layer (in tf contrib folder for now)\n",
    "        # tf.layers.dense函数改变fc1的最后一维为1024\n",
    "        fc1 = tf.layers.dense(fc1, 1024)\n",
    "        # Apply Dropout (if is_training is False, dropout is not applied)\n",
    "        fc1 = tf.layers.dropout(fc1, rate=dropout, training=is_training)\n",
    "\n",
    "        # Output layer, class prediction\n",
    "        out = tf.layers.dense(fc1, n_classes)\n",
    "\n",
    "    return out"
   ]
  },
  {
   "cell_type": "code",
   "execution_count": 5,
   "metadata": {},
   "outputs": [],
   "source": [
    "# Define the model function (following TF Estimator Template)\n",
    "def model_fn(features, labels, mode):\n",
    "    # Build the neural network\n",
    "    # Because Dropout have different behavior at training and prediction time, we\n",
    "    # need to create 2 distinct computation graphs that still share the same weights.\n",
    "    logits_train = conv_net(features, num_classes, dropout, reuse=False, is_training=True)\n",
    "    logits_test = conv_net(features, num_classes, dropout, reuse=True, is_training=False)\n",
    "    \n",
    "    # Predictions\n",
    "    pred_classes = tf.argmax(logits_test, axis=1)\n",
    "    pred_probas = tf.nn.softmax(logits_test)\n",
    "    \n",
    "    # If prediction mode, early return\n",
    "    if mode == tf.estimator.ModeKeys.PREDICT:\n",
    "        return tf.estimator.EstimatorSpec(mode, predictions=pred_classes) \n",
    "        \n",
    "    # Define loss and optimizer\n",
    "    loss_op = tf.reduce_mean(tf.nn.sparse_softmax_cross_entropy_with_logits(logits=logits_train,\n",
    "                                                                            labels=tf.cast(labels, dtype=tf.int32)))\n",
    "    optimizer = tf.train.AdamOptimizer(learning_rate=learning_rate)\n",
    "    train_op = optimizer.minimize(loss_op, global_step=tf.train.get_global_step())\n",
    "    \n",
    "    # Evaluate the accuracy of the model\n",
    "    acc_op = tf.metrics.accuracy(labels=labels, predictions=pred_classes)\n",
    "    \n",
    "    # TF Estimators requires to return a EstimatorSpec, that specify\n",
    "    # the different ops for training, evaluating, ...\n",
    "    estim_specs = tf.estimator.EstimatorSpec(mode=mode,\n",
    "                                             predictions=pred_classes,\n",
    "                                             loss=loss_op,\n",
    "                                             train_op=train_op,\n",
    "                                             eval_metric_ops={'accuracy': acc_op})\n",
    "\n",
    "    return estim_specs"
   ]
  },
  {
   "cell_type": "code",
   "execution_count": 6,
   "metadata": {},
   "outputs": [
    {
     "name": "stdout",
     "output_type": "stream",
     "text": [
      "INFO:tensorflow:Using default config.\n",
      "WARNING:tensorflow:Using temporary folder as model directory: /tmp/tmpoiujiiem\n",
      "INFO:tensorflow:Using config: {'_keep_checkpoint_every_n_hours': 10000, '_save_summary_steps': 100, '_cluster_spec': <tensorflow.python.training.server_lib.ClusterSpec object at 0x7fa94b000470>, '_keep_checkpoint_max': 5, '_session_config': None, '_tf_random_seed': None, '_save_checkpoints_steps': None, '_save_checkpoints_secs': 600, '_task_id': 0, '_master': '', '_log_step_count_steps': 100, '_task_type': 'worker', '_service': None, '_model_dir': '/tmp/tmpoiujiiem', '_num_worker_replicas': 1, '_is_chief': True, '_num_ps_replicas': 0}\n"
     ]
    }
   ],
   "source": [
    "# Build the Estimator\n",
    "model = tf.estimator.Estimator(model_fn)"
   ]
  },
  {
   "cell_type": "code",
   "execution_count": 7,
   "metadata": {},
   "outputs": [
    {
     "name": "stdout",
     "output_type": "stream",
     "text": [
      "INFO:tensorflow:Create CheckpointSaverHook.\n",
      "INFO:tensorflow:Saving checkpoints for 1 into /tmp/tmpoiujiiem/model.ckpt.\n",
      "INFO:tensorflow:loss = 2.30622, step = 1\n",
      "INFO:tensorflow:global_step/sec: 4.25502\n",
      "INFO:tensorflow:loss = 0.150477, step = 101 (23.506 sec)\n",
      "INFO:tensorflow:global_step/sec: 4.25301\n",
      "INFO:tensorflow:loss = 0.0628816, step = 201 (23.513 sec)\n",
      "INFO:tensorflow:global_step/sec: 4.27238\n",
      "INFO:tensorflow:loss = 0.0512142, step = 301 (23.405 sec)\n",
      "INFO:tensorflow:global_step/sec: 4.29405\n",
      "INFO:tensorflow:loss = 0.110709, step = 401 (23.287 sec)\n",
      "INFO:tensorflow:global_step/sec: 4.27097\n",
      "INFO:tensorflow:loss = 0.0152248, step = 501 (23.413 sec)\n",
      "INFO:tensorflow:global_step/sec: 4.27514\n",
      "INFO:tensorflow:loss = 0.00527779, step = 601 (23.392 sec)\n",
      "INFO:tensorflow:global_step/sec: 4.28273\n",
      "INFO:tensorflow:loss = 0.0419617, step = 701 (23.350 sec)\n",
      "INFO:tensorflow:global_step/sec: 4.27917\n",
      "INFO:tensorflow:loss = 0.0307672, step = 801 (23.368 sec)\n",
      "INFO:tensorflow:global_step/sec: 4.27319\n",
      "INFO:tensorflow:loss = 0.0502162, step = 901 (23.404 sec)\n",
      "INFO:tensorflow:global_step/sec: 4.22483\n",
      "INFO:tensorflow:loss = 0.0278304, step = 1001 (23.668 sec)\n",
      "INFO:tensorflow:global_step/sec: 4.23039\n",
      "INFO:tensorflow:loss = 0.0238564, step = 1101 (23.639 sec)\n",
      "INFO:tensorflow:global_step/sec: 4.25818\n",
      "INFO:tensorflow:loss = 0.0333867, step = 1201 (23.484 sec)\n",
      "INFO:tensorflow:global_step/sec: 4.28012\n",
      "INFO:tensorflow:loss = 0.0392585, step = 1301 (23.364 sec)\n",
      "INFO:tensorflow:global_step/sec: 4.26515\n",
      "INFO:tensorflow:loss = 0.0285516, step = 1401 (23.445 sec)\n",
      "INFO:tensorflow:global_step/sec: 4.20881\n",
      "INFO:tensorflow:loss = 0.0295343, step = 1501 (23.760 sec)\n",
      "INFO:tensorflow:global_step/sec: 4.21953\n",
      "INFO:tensorflow:loss = 0.00432371, step = 1601 (23.701 sec)\n",
      "INFO:tensorflow:global_step/sec: 4.21745\n",
      "INFO:tensorflow:loss = 0.0167634, step = 1701 (23.709 sec)\n",
      "INFO:tensorflow:global_step/sec: 4.23957\n",
      "INFO:tensorflow:loss = 0.0170842, step = 1801 (23.587 sec)\n",
      "INFO:tensorflow:global_step/sec: 4.27195\n",
      "INFO:tensorflow:loss = 0.155301, step = 1901 (23.409 sec)\n",
      "INFO:tensorflow:Saving checkpoints for 2000 into /tmp/tmpoiujiiem/model.ckpt.\n",
      "INFO:tensorflow:Loss for final step: 0.0074673.\n"
     ]
    },
    {
     "data": {
      "text/plain": [
       "<tensorflow.python.estimator.estimator.Estimator at 0x7fa947552048>"
      ]
     },
     "execution_count": 7,
     "metadata": {},
     "output_type": "execute_result"
    }
   ],
   "source": [
    "# Define the input function for training\n",
    "input_fn = tf.estimator.inputs.numpy_input_fn(x={'images': mnist.train.images},\n",
    "                                              y=mnist.train.labels,\n",
    "                                              batch_size=batch_size,\n",
    "                                              num_epochs=None,\n",
    "                                              shuffle=True)\n",
    "# Train the Model\n",
    "model.train(input_fn, steps=num_steps)"
   ]
  },
  {
   "cell_type": "code",
   "execution_count": 8,
   "metadata": {},
   "outputs": [
    {
     "name": "stdout",
     "output_type": "stream",
     "text": [
      "INFO:tensorflow:Starting evaluation at 2020-07-01-04:13:26\n",
      "INFO:tensorflow:Restoring parameters from /tmp/tmpoiujiiem/model.ckpt-2000\n",
      "INFO:tensorflow:Finished evaluation at 2020-07-01-04:13:32\n",
      "INFO:tensorflow:Saving dict for global step 2000: accuracy = 0.9874, global_step = 2000, loss = 0.0406337\n"
     ]
    },
    {
     "data": {
      "text/plain": [
       "{'accuracy': 0.9874, 'global_step': 2000, 'loss': 0.040633701}"
      ]
     },
     "execution_count": 8,
     "metadata": {},
     "output_type": "execute_result"
    }
   ],
   "source": [
    "# Evaluate the Model\n",
    "# Define the input function for evaluating\n",
    "input_fn = tf.estimator.inputs.numpy_input_fn(x={'images': mnist.test.images},\n",
    "                                              y=mnist.test.labels,\n",
    "                                              batch_size=batch_size,\n",
    "                                              shuffle=False)\n",
    "# Use the Estimator 'evaluate' method\n",
    "model.evaluate(input_fn)"
   ]
  },
  {
   "cell_type": "code",
   "execution_count": 9,
   "metadata": {},
   "outputs": [
    {
     "name": "stdout",
     "output_type": "stream",
     "text": [
      "INFO:tensorflow:Restoring parameters from /tmp/tmpoiujiiem/model.ckpt-2000\n"
     ]
    },
    {
     "data": {
      "image/png": "[encoded data removed]",
      "text/plain": [
       "<Figure size 432x288 with 1 Axes>"
      ]
     },
     "metadata": {},
     "output_type": "display_data"
    },
    {
     "name": "stdout",
     "output_type": "stream",
     "text": [
      "Model prediction: 7\n"
     ]
    },
    {
     "data": {
      "image/png": "[encoded data removed]",
      "text/plain": [
       "<Figure size 432x288 with 1 Axes>"
      ]
     },
     "metadata": {},
     "output_type": "display_data"
    },
    {
     "name": "stdout",
     "output_type": "stream",
     "text": [
      "Model prediction: 2\n"
     ]
    },
    {
     "data": {
      "image/png": "[encoded data removed]",
      "text/plain": [
       "<Figure size 432x288 with 1 Axes>"
      ]
     },
     "metadata": {},
     "output_type": "display_data"
    },
    {
     "name": "stdout",
     "output_type": "stream",
     "text": [
      "Model prediction: 1\n"
     ]
    },
    {
     "data": {
      "image/png": "[encoded data removed]",
      "text/plain": [
       "<Figure size 432x288 with 1 Axes>"
      ]
     },
     "metadata": {},
     "output_type": "display_data"
    },
    {
     "name": "stdout",
     "output_type": "stream",
     "text": [
      "Model prediction: 0\n"
     ]
    }
   ],
   "source": [
    "# Predict single images\n",
    "n_images = 4\n",
    "\n",
    "# Get images from test set\n",
    "test_images = mnist.test.images[:n_images]\n",
    "\n",
    "# Prepare the input data\n",
    "input_fn = tf.estimator.inputs.numpy_input_fn(x={'images': test_images},\n",
    "                                              shuffle=False)\n",
    "\n",
    "# Use the model to predict the images class\n",
    "preds = list(model.predict(input_fn))\n",
    "\n",
    "# Display\n",
    "for i in range(n_images):\n",
    "    plt.imshow(np.reshape(test_images[i], [28, 28]), cmap='gray')\n",
    "    plt.show()\n",
    "    print(\"Model prediction:\", preds[i])"
   ]
  },
  {
   "cell_type": "code",
   "execution_count": null,
   "metadata": {},
   "outputs": [],
   "source": []
  }
 ],
 "metadata": {
  "kernelspec": {
   "display_name": "Python 3",
   "language": "python",
   "name": "python3"
  },
  "language_info": {
   "codemirror_mode": {
    "name": "ipython",
    "version": 3
   },
   "file_extension": ".py",
   "mimetype": "text/x-python",
   "name": "python",
   "nbconvert_exporter": "python",
   "pygments_lexer": "ipython3",
   "version": "3.5.4"
  }
 },
 "nbformat": 4,
 "nbformat_minor": 4
}
