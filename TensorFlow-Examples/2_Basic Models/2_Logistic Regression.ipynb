{
 "cells": [
  {
   "cell_type": "code",
   "execution_count": 2,
   "metadata": {},
   "outputs": [
    {
     "name": "stdout",
     "output_type": "stream",
     "text": [
      "Extracting ../MNIST-data/train-images-idx3-ubyte.gz\n",
      "Extracting ../MNIST-data/train-labels-idx1-ubyte.gz\n",
      "Extracting ../MNIST-data/t10k-images-idx3-ubyte.gz\n",
      "Extracting ../MNIST-data/t10k-labels-idx1-ubyte.gz\n"
     ]
    }
   ],
   "source": [
    "import tensorflow as tf\n",
    "\n",
    "# Import MINST data\n",
    "from tensorflow.examples.tutorials.mnist import input_data\n",
    "mnist = input_data.read_data_sets(\"../MNIST-data\", False, one_hot=True)"
   ]
  },
  {
   "cell_type": "code",
   "execution_count": 3,
   "metadata": {},
   "outputs": [],
   "source": [
    "# Parameters\n",
    "learning_rate = 0.01\n",
    "training_epochs = 25\n",
    "batch_size = 100\n",
    "display_step = 1\n",
    "\n",
    "# tf Graph Input\n",
    "x = tf.placeholder(tf.float32, [None, 784]) # mnist data image of shape 28*28=784\n",
    "y = tf.placeholder(tf.float32, [None, 10]) # 0-9 digits recognition => 10 classes\n",
    "\n",
    "# Set model weights\n",
    "W = tf.Variable(tf.zeros([784, 10]))\n",
    "b = tf.Variable(tf.zeros([10]))\n",
    "\n",
    "# Construct model\n",
    "pred = tf.nn.softmax(tf.matmul(x, W) + b) # Softmax\n",
    "\n",
    "# Minimize error using cross entropy\n",
    "# reduction_indices，直译过来就是指“坍塌维度”，即按照哪个维度进行加法运算。\n",
    "cost = tf.reduce_mean(-tf.reduce_sum(y * tf.log(pred), reduction_indices=1))\n",
    "\n",
    "# Gradient Descent\n",
    "optimizer = tf.train.GradientDescentOptimizer(learning_rate).minimize(cost)\n",
    "\n",
    "# Initialize the variables (i.e. assign their default value)\n",
    "init = tf.global_variables_initializer()"
   ]
  },
  {
   "cell_type": "code",
   "execution_count": 4,
   "metadata": {},
   "outputs": [
    {
     "name": "stdout",
     "output_type": "stream",
     "text": [
      "Epoch: 0001 cost= 1.184008699\n",
      "Epoch: 0002 cost= 0.665286289\n",
      "Epoch: 0003 cost= 0.552801642\n",
      "Epoch: 0004 cost= 0.498660975\n",
      "Epoch: 0005 cost= 0.465556633\n",
      "Epoch: 0006 cost= 0.442574657\n",
      "Epoch: 0007 cost= 0.425497494\n",
      "Epoch: 0008 cost= 0.412179274\n",
      "Epoch: 0009 cost= 0.401374868\n",
      "Epoch: 0010 cost= 0.392414296\n",
      "Epoch: 0011 cost= 0.384754597\n",
      "Epoch: 0012 cost= 0.378181032\n",
      "Epoch: 0013 cost= 0.372349456\n",
      "Epoch: 0014 cost= 0.367247281\n",
      "Epoch: 0015 cost= 0.362724819\n",
      "Epoch: 0016 cost= 0.358631918\n",
      "Epoch: 0017 cost= 0.354848594\n",
      "Epoch: 0018 cost= 0.351465629\n",
      "Epoch: 0019 cost= 0.348283915\n",
      "Epoch: 0020 cost= 0.345471079\n",
      "Epoch: 0021 cost= 0.342744002\n",
      "Epoch: 0022 cost= 0.340229054\n",
      "Epoch: 0023 cost= 0.337956094\n",
      "Epoch: 0024 cost= 0.335768944\n",
      "Epoch: 0025 cost= 0.333705977\n",
      "Optimization Finished!\n",
      "Accuracy: 0.889333\n"
     ]
    }
   ],
   "source": [
    "# Start training\n",
    "with tf.Session() as sess:\n",
    "    sess.run(init)\n",
    "\n",
    "    # Training cycle\n",
    "    for epoch in range(training_epochs):\n",
    "        avg_cost = 0.\n",
    "        total_batch = int(mnist.train.num_examples / batch_size)\n",
    "        \n",
    "        # Loop over all batches\n",
    "        for i in range(total_batch):\n",
    "            batch_xs, batch_ys = mnist.train.next_batch(batch_size)\n",
    "            # Fit training using batch data\n",
    "            _, c = sess.run([optimizer, cost], feed_dict={x: batch_xs,\n",
    "                                                          y: batch_ys})\n",
    "            # Compute average loss\n",
    "            avg_cost += c / total_batch\n",
    "            \n",
    "        # Display logs per epoch step\n",
    "        if (epoch + 1) % display_step == 0:\n",
    "            print(\"Epoch:\", '%04d' % (epoch+1), \"cost=\", \"{:.9f}\".format(avg_cost))\n",
    "\n",
    "    print(\"Optimization Finished!\")\n",
    "\n",
    "    # Test model\n",
    "    correct_prediction = tf.equal(tf.argmax(pred, 1), tf.argmax(y, 1))\n",
    "    \n",
    "    # Calculate accuracy for 3000 examples\n",
    "    accuracy = tf.reduce_mean(tf.cast(correct_prediction, tf.float32))\n",
    "    print(\"Accuracy:\", accuracy.eval({x: mnist.test.images[:3000], y: mnist.test.labels[:3000]}))"
   ]
  },
  {
   "cell_type": "code",
   "execution_count": null,
   "metadata": {},
   "outputs": [],
   "source": []
  }
 ],
 "metadata": {
  "kernelspec": {
   "display_name": "Python 3",
   "language": "python",
   "name": "python3"
  },
  "language_info": {
   "codemirror_mode": {
    "name": "ipython",
    "version": 3
   },
   "file_extension": ".py",
   "mimetype": "text/x-python",
   "name": "python",
   "nbconvert_exporter": "python",
   "pygments_lexer": "ipython3",
   "version": "3.5.4"
  }
 },
 "nbformat": 4,
 "nbformat_minor": 4
}
