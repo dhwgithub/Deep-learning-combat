{
 "cells": [
  {
   "cell_type": "markdown",
   "metadata": {},
   "source": [
    "# 特征值和特征向量"
   ]
  },
  {
   "cell_type": "code",
   "execution_count": 2,
   "metadata": {},
   "outputs": [
    {
     "name": "stdout",
     "output_type": "stream",
     "text": [
      "[[1 2]\n",
      " [3 4]]\n",
      "(array([-0.85410208,  5.85410213], dtype=float32), array([[-0.85065085, -0.52573109],\n",
      "       [ 0.52573109, -0.85065085]], dtype=float32))\n"
     ]
    }
   ],
   "source": [
    "import tensorflow as tf\n",
    "import numpy as np\n",
    "\n",
    "# 构建矩阵\n",
    "m = np.array([1, 2, 3, 4]).reshape(2, 2)\n",
    "print(m)\n",
    "\n",
    "# 求特征值和特征向量\n",
    "t = tf.self_adjoint_eig(m.astype(\"float32\"))\n",
    "\n",
    "with tf.Session() as sess:\n",
    "    print(sess.run(t))"
   ]
  },
  {
   "cell_type": "markdown",
   "metadata": {},
   "source": [
    "# 目录遍历"
   ]
  },
  {
   "cell_type": "code",
   "execution_count": 29,
   "metadata": {},
   "outputs": [
    {
     "name": "stdout",
     "output_type": "stream",
     "text": [
      "['.ipynb_checkpoints', 't1', 't2']\n",
      "['.ipynb_checkpoints', 't1', 't2']\n",
      "--------------------------------\n",
      "('./test/.ipynb_checkpoints', [], [])\n",
      "--------------------------------\n",
      "('./test/t1', ['Untitled Folder 1', 'Untitled Folder'], ['untitled1.txt', 'untitled.txt', 'untitled2.txt'])\n",
      "--------------------------------\n",
      "('./test/t2', [], ['untitled.txt'])\n"
     ]
    }
   ],
   "source": [
    "import os\n",
    "\n",
    "dataset_path = './test'\n",
    "\n",
    "# 遍历dataset_path文件夹\n",
    "# 其中f[0]代表该文件夹路径名，f[1]代表文件夹内的文件夹列表，f[2]代表文件夹内文件列表\n",
    "f = os.walk(dataset_path).__next__()[1]\n",
    "print(f)\n",
    "\n",
    "# 一般对多个文件/夹进行排序\n",
    "f = sorted(f)\n",
    "print(f)\n",
    "\n",
    "# 二级目录\n",
    "for fs in f:\n",
    "    print('--------------------------------')\n",
    "    fs_dir = os.path.join(dataset_path, fs)\n",
    "    fs = os.walk(fs_dir).__next__()\n",
    "    # 输出fs文件夹内的所有内容，即三个大小的元组\n",
    "    print(fs)"
   ]
  },
  {
   "cell_type": "markdown",
   "metadata": {},
   "source": [
    "# dataset中shuffle()、repeat()、batch()用法"
   ]
  },
  {
   "cell_type": "code",
   "execution_count": 2,
   "metadata": {},
   "outputs": [
    {
     "name": "stdout",
     "output_type": "stream",
     "text": [
      "[[ 0.5488135   0.71518937]\n",
      " [ 0.60276338  0.54488318]\n",
      " [ 0.4236548   0.64589411]\n",
      " [ 0.43758721  0.891773  ]\n",
      " [ 0.96366276  0.38344152]\n",
      " [ 0.79172504  0.52889492]\n",
      " [ 0.56804456  0.92559664]\n",
      " [ 0.07103606  0.0871293 ]\n",
      " [ 0.0202184   0.83261985]\n",
      " [ 0.77815675  0.87001215]\n",
      " [ 0.97861834  0.79915856]]\n"
     ]
    }
   ],
   "source": [
    "import numpy as np\n",
    "import tensorflow as tf\n",
    "\n",
    "np.random.seed(0)\n",
    "x = np.random.sample((11,2))\n",
    "\n",
    "# make a dataset from a numpy array\n",
    "print(x)"
   ]
  },
  {
   "cell_type": "code",
   "execution_count": 3,
   "metadata": {},
   "outputs": [
    {
     "name": "stdout",
     "output_type": "stream",
     "text": [
      "[[ 0.5488135   0.71518937]\n",
      " [ 0.4236548   0.64589411]\n",
      " [ 0.60276338  0.54488318]\n",
      " [ 0.43758721  0.891773  ]]\n",
      "[[ 0.79172504  0.52889492]\n",
      " [ 0.56804456  0.92559664]\n",
      " [ 0.96366276  0.38344152]\n",
      " [ 0.0202184   0.83261985]]\n",
      "[[ 0.77815675  0.87001215]\n",
      " [ 0.07103606  0.0871293 ]\n",
      " [ 0.97861834  0.79915856]]\n",
      "[[ 0.5488135   0.71518937]\n",
      " [ 0.60276338  0.54488318]\n",
      " [ 0.4236548   0.64589411]\n",
      " [ 0.96366276  0.38344152]]\n",
      "[[ 0.43758721  0.891773  ]\n",
      " [ 0.56804456  0.92559664]\n",
      " [ 0.07103606  0.0871293 ]\n",
      " [ 0.0202184   0.83261985]]\n",
      "[[ 0.79172504  0.52889492]\n",
      " [ 0.77815675  0.87001215]\n",
      " [ 0.97861834  0.79915856]]\n"
     ]
    }
   ],
   "source": [
    "dataset = tf.data.Dataset.from_tensor_slices(x)\n",
    "dataset = dataset.shuffle(2) # 将数据打乱，数值越大，混乱程度越大\n",
    "dataset = dataset.batch(4) # 按照顺序取出4行数据，最后一次输出可能小于batch\n",
    "\n",
    "dataset = dataset.repeat() # 数据集重复了指定次数\n",
    "# repeat()在batch操作输出完毕后再执行,若在之前，相当于先把整个数据集复制两次\n",
    "# 为了配合输出次数，一般默认repeat()空\n",
    "\n",
    "# create the iterator\n",
    "el = dataset.make_one_shot_iterator().get_next()\n",
    "\n",
    "with tf.Session() as sess:\n",
    "    for i in range(6):\n",
    "        value = sess.run(el)\n",
    "        print(value)"
   ]
  },
  {
   "cell_type": "code",
   "execution_count": null,
   "metadata": {},
   "outputs": [],
   "source": []
  }
 ],
 "metadata": {
  "kernelspec": {
   "display_name": "Python 3",
   "language": "python",
   "name": "python3"
  },
  "language_info": {
   "codemirror_mode": {
    "name": "ipython",
    "version": 3
   },
   "file_extension": ".py",
   "mimetype": "text/x-python",
   "name": "python",
   "nbconvert_exporter": "python",
   "pygments_lexer": "ipython3",
   "version": "3.5.4"
  }
 },
 "nbformat": 4,
 "nbformat_minor": 4
}
